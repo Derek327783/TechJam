{
  "cells": [
    {
      "cell_type": "code",
      "execution_count": 1,
      "id": "7631e348",
      "metadata": {
        "id": "7631e348",
        "outputId": "4976ec63-3c15-463e-c8b9-0ff644549f6f",
        "colab": {
          "base_uri": "https://localhost:8080/"
        }
      },
      "outputs": [
        {
          "output_type": "stream",
          "name": "stdout",
          "text": [
            "Mounted at /content/drive\n"
          ]
        }
      ],
      "source": [
        "from google.colab import drive\n",
        "drive.mount('/content/drive')"
      ]
    },
    {
      "cell_type": "code",
      "source": [
        "import json\n",
        "import tensorflow.keras as keras\n",
        "import numpy as np\n",
        "import pandas as pd\n",
        "\n",
        "file_path = '/content/drive/MyDrive/Music Genre Classifier Dataset/NN_Features.json'\n",
        "with open(file_path, \"r\") as fp:\n",
        "        data = json.load(fp)\n",
        "\n",
        "    # convert lists to numpy arrays\n",
        "X = np.array(data[\"mfcc\"])\n",
        "y = np.array(data[\"label\"])"
      ],
      "metadata": {
        "id": "yCBobidRjGW5"
      },
      "id": "yCBobidRjGW5",
      "execution_count": 3,
      "outputs": []
    },
    {
      "cell_type": "code",
      "source": [
        "# (num_audio_files * 5, num_frames, n_mfccs), there were some corrupted files\n",
        "print(X.shape)\n",
        "print(y.shape)"
      ],
      "metadata": {
        "id": "xGJrhk_vjMWI",
        "outputId": "2e3f386d-f562-4078-8412-996158e3593d",
        "colab": {
          "base_uri": "https://localhost:8080/"
        }
      },
      "id": "xGJrhk_vjMWI",
      "execution_count": 4,
      "outputs": [
        {
          "output_type": "stream",
          "name": "stdout",
          "text": [
            "(4993, 259, 13)\n",
            "(4993,)\n"
          ]
        }
      ]
    },
    {
      "cell_type": "code",
      "source": [
        "from sklearn.model_selection import train_test_split\n",
        "X_train, X_test, y_train, y_test = train_test_split(X, y, test_size=0.2, random_state=42)"
      ],
      "metadata": {
        "id": "uyc7SpI6kplM"
      },
      "id": "uyc7SpI6kplM",
      "execution_count": 5,
      "outputs": []
    },
    {
      "cell_type": "code",
      "source": [
        "# Base 3 layer Convolutional\n",
        "CNN = keras.Sequential()\n",
        "CNN.add(keras.layers.Conv2D(32, (3,3), activation=\"relu\",input_shape=(X_train.shape[1],X_train.shape[2],1)))\n",
        "CNN.add(keras.layers.MaxPooling2D((3,3), strides=(2,2),padding=\"same\"))\n",
        "CNN.add(keras.layers.Conv2D(64,(3,3),activation =\"relu\"))\n",
        "CNN.add(keras.layers.MaxPooling2D((3,3), strides=(2,2),padding=\"same\"))\n",
        "CNN.add(keras.layers.Conv2D(128,(2,2),activation =\"relu\"))\n",
        "CNN.add(keras.layers.Flatten())\n",
        "CNN.add(keras.layers.Dense(64,activation=\"relu\"))\n",
        "CNN.add(keras.layers.Dropout(0.1))\n",
        "CNN.add(keras.layers.Dense(10,activation=\"softmax\"))\n",
        "\n",
        "CNN.compile(optimizer=\"adam\",loss=\"sparse_categorical_crossentropy\",metrics=[\"accuracy\"])\n",
        "history_CNN = CNN.fit(X_train, y_train, epochs = 50, batch_size=32, validation_data=(X_test,y_test))\n",
        "CNN.summary()"
      ],
      "metadata": {
        "id": "1AZ3OhUBktpU",
        "outputId": "76d0233b-7505-4bcc-d05a-f2a1bbaeacad",
        "colab": {
          "base_uri": "https://localhost:8080/"
        }
      },
      "id": "1AZ3OhUBktpU",
      "execution_count": 7,
      "outputs": [
        {
          "output_type": "stream",
          "name": "stdout",
          "text": [
            "Epoch 1/50\n",
            "125/125 [==============================] - 2s 6ms/step - loss: 2.1386 - accuracy: 0.3433 - val_loss: 1.6434 - val_accuracy: 0.4134\n",
            "Epoch 2/50\n",
            "125/125 [==============================] - 1s 5ms/step - loss: 1.5312 - accuracy: 0.4432 - val_loss: 1.4792 - val_accuracy: 0.4715\n",
            "Epoch 3/50\n",
            "125/125 [==============================] - 1s 5ms/step - loss: 1.3371 - accuracy: 0.5190 - val_loss: 1.3996 - val_accuracy: 0.4975\n",
            "Epoch 4/50\n",
            "125/125 [==============================] - 1s 5ms/step - loss: 1.2241 - accuracy: 0.5513 - val_loss: 1.3614 - val_accuracy: 0.5085\n",
            "Epoch 5/50\n",
            "125/125 [==============================] - 1s 5ms/step - loss: 1.0516 - accuracy: 0.6189 - val_loss: 1.1850 - val_accuracy: 0.5876\n",
            "Epoch 6/50\n",
            "125/125 [==============================] - 1s 5ms/step - loss: 0.9135 - accuracy: 0.6662 - val_loss: 1.2669 - val_accuracy: 0.5596\n",
            "Epoch 7/50\n",
            "125/125 [==============================] - 1s 4ms/step - loss: 0.8255 - accuracy: 0.7156 - val_loss: 1.1506 - val_accuracy: 0.6106\n",
            "Epoch 8/50\n",
            "125/125 [==============================] - 1s 4ms/step - loss: 0.7070 - accuracy: 0.7469 - val_loss: 1.0797 - val_accuracy: 0.6206\n",
            "Epoch 9/50\n",
            "125/125 [==============================] - 1s 5ms/step - loss: 0.5765 - accuracy: 0.7892 - val_loss: 1.2742 - val_accuracy: 0.6146\n",
            "Epoch 10/50\n",
            "125/125 [==============================] - 1s 4ms/step - loss: 0.4329 - accuracy: 0.8445 - val_loss: 1.2046 - val_accuracy: 0.6607\n",
            "Epoch 11/50\n",
            "125/125 [==============================] - 1s 5ms/step - loss: 0.3960 - accuracy: 0.8653 - val_loss: 1.2268 - val_accuracy: 0.6637\n",
            "Epoch 12/50\n",
            "125/125 [==============================] - 1s 4ms/step - loss: 0.3374 - accuracy: 0.8848 - val_loss: 1.2538 - val_accuracy: 0.6466\n",
            "Epoch 13/50\n",
            "125/125 [==============================] - 1s 4ms/step - loss: 0.2754 - accuracy: 0.9064 - val_loss: 1.4257 - val_accuracy: 0.6687\n",
            "Epoch 14/50\n",
            "125/125 [==============================] - 1s 5ms/step - loss: 0.2271 - accuracy: 0.9161 - val_loss: 1.4374 - val_accuracy: 0.6386\n",
            "Epoch 15/50\n",
            "125/125 [==============================] - 1s 4ms/step - loss: 0.2280 - accuracy: 0.9221 - val_loss: 1.5506 - val_accuracy: 0.6226\n",
            "Epoch 16/50\n",
            "125/125 [==============================] - 1s 4ms/step - loss: 0.1651 - accuracy: 0.9422 - val_loss: 1.5277 - val_accuracy: 0.6607\n",
            "Epoch 17/50\n",
            "125/125 [==============================] - 1s 4ms/step - loss: 0.1853 - accuracy: 0.9389 - val_loss: 1.5176 - val_accuracy: 0.6416\n",
            "Epoch 18/50\n",
            "125/125 [==============================] - 1s 5ms/step - loss: 0.1473 - accuracy: 0.9497 - val_loss: 1.7665 - val_accuracy: 0.6346\n",
            "Epoch 19/50\n",
            "125/125 [==============================] - 1s 5ms/step - loss: 0.1446 - accuracy: 0.9549 - val_loss: 1.7642 - val_accuracy: 0.6396\n",
            "Epoch 20/50\n",
            "125/125 [==============================] - 1s 5ms/step - loss: 0.1304 - accuracy: 0.9584 - val_loss: 1.8354 - val_accuracy: 0.6156\n",
            "Epoch 21/50\n",
            "125/125 [==============================] - 1s 5ms/step - loss: 0.1360 - accuracy: 0.9602 - val_loss: 1.8129 - val_accuracy: 0.6557\n",
            "Epoch 22/50\n",
            "125/125 [==============================] - 1s 5ms/step - loss: 0.1427 - accuracy: 0.9487 - val_loss: 1.7156 - val_accuracy: 0.6507\n",
            "Epoch 23/50\n",
            "125/125 [==============================] - 1s 4ms/step - loss: 0.1160 - accuracy: 0.9634 - val_loss: 1.8241 - val_accuracy: 0.6456\n",
            "Epoch 24/50\n",
            "125/125 [==============================] - 1s 5ms/step - loss: 0.1285 - accuracy: 0.9612 - val_loss: 1.9148 - val_accuracy: 0.6316\n",
            "Epoch 25/50\n",
            "125/125 [==============================] - 1s 5ms/step - loss: 0.1696 - accuracy: 0.9467 - val_loss: 1.9197 - val_accuracy: 0.6246\n",
            "Epoch 26/50\n",
            "125/125 [==============================] - 1s 4ms/step - loss: 0.1590 - accuracy: 0.9469 - val_loss: 1.9785 - val_accuracy: 0.6406\n",
            "Epoch 27/50\n",
            "125/125 [==============================] - 1s 5ms/step - loss: 0.1681 - accuracy: 0.9479 - val_loss: 2.1378 - val_accuracy: 0.6276\n",
            "Epoch 28/50\n",
            "125/125 [==============================] - 1s 5ms/step - loss: 0.1008 - accuracy: 0.9639 - val_loss: 2.0815 - val_accuracy: 0.6096\n",
            "Epoch 29/50\n",
            "125/125 [==============================] - 1s 4ms/step - loss: 0.1122 - accuracy: 0.9634 - val_loss: 2.1781 - val_accuracy: 0.6416\n",
            "Epoch 30/50\n",
            "125/125 [==============================] - 1s 4ms/step - loss: 0.1348 - accuracy: 0.9607 - val_loss: 1.9967 - val_accuracy: 0.6466\n",
            "Epoch 31/50\n",
            "125/125 [==============================] - 1s 4ms/step - loss: 0.1075 - accuracy: 0.9642 - val_loss: 2.0139 - val_accuracy: 0.6426\n",
            "Epoch 32/50\n",
            "125/125 [==============================] - 1s 5ms/step - loss: 0.0854 - accuracy: 0.9712 - val_loss: 2.2237 - val_accuracy: 0.6096\n",
            "Epoch 33/50\n",
            "125/125 [==============================] - 1s 4ms/step - loss: 0.1514 - accuracy: 0.9497 - val_loss: 2.3042 - val_accuracy: 0.6126\n",
            "Epoch 34/50\n",
            "125/125 [==============================] - 1s 4ms/step - loss: 0.0841 - accuracy: 0.9705 - val_loss: 2.4251 - val_accuracy: 0.6286\n",
            "Epoch 35/50\n",
            "125/125 [==============================] - 1s 4ms/step - loss: 0.1018 - accuracy: 0.9685 - val_loss: 2.1714 - val_accuracy: 0.6286\n",
            "Epoch 36/50\n",
            "125/125 [==============================] - 1s 4ms/step - loss: 0.0724 - accuracy: 0.9762 - val_loss: 2.5109 - val_accuracy: 0.6326\n",
            "Epoch 37/50\n",
            "125/125 [==============================] - 1s 4ms/step - loss: 0.0902 - accuracy: 0.9672 - val_loss: 2.5015 - val_accuracy: 0.6136\n",
            "Epoch 38/50\n",
            "125/125 [==============================] - 1s 5ms/step - loss: 0.1270 - accuracy: 0.9599 - val_loss: 2.4575 - val_accuracy: 0.5956\n",
            "Epoch 39/50\n",
            "125/125 [==============================] - 1s 4ms/step - loss: 0.1423 - accuracy: 0.9557 - val_loss: 2.5362 - val_accuracy: 0.6326\n",
            "Epoch 40/50\n",
            "125/125 [==============================] - 1s 5ms/step - loss: 0.0881 - accuracy: 0.9725 - val_loss: 2.6979 - val_accuracy: 0.6406\n",
            "Epoch 41/50\n",
            "125/125 [==============================] - 1s 5ms/step - loss: 0.1009 - accuracy: 0.9672 - val_loss: 2.6031 - val_accuracy: 0.6366\n",
            "Epoch 42/50\n",
            "125/125 [==============================] - 1s 5ms/step - loss: 0.1271 - accuracy: 0.9629 - val_loss: 2.5910 - val_accuracy: 0.6196\n",
            "Epoch 43/50\n",
            "125/125 [==============================] - 1s 5ms/step - loss: 0.1234 - accuracy: 0.9614 - val_loss: 2.4635 - val_accuracy: 0.6046\n",
            "Epoch 44/50\n",
            "125/125 [==============================] - 1s 5ms/step - loss: 0.0758 - accuracy: 0.9747 - val_loss: 2.5773 - val_accuracy: 0.6507\n",
            "Epoch 45/50\n",
            "125/125 [==============================] - 1s 4ms/step - loss: 0.0669 - accuracy: 0.9805 - val_loss: 2.7855 - val_accuracy: 0.6376\n",
            "Epoch 46/50\n",
            "125/125 [==============================] - 1s 4ms/step - loss: 0.0751 - accuracy: 0.9742 - val_loss: 2.8518 - val_accuracy: 0.6036\n",
            "Epoch 47/50\n",
            "125/125 [==============================] - 1s 4ms/step - loss: 0.0965 - accuracy: 0.9727 - val_loss: 2.9471 - val_accuracy: 0.6156\n",
            "Epoch 48/50\n",
            "125/125 [==============================] - 1s 5ms/step - loss: 0.0914 - accuracy: 0.9700 - val_loss: 3.0464 - val_accuracy: 0.6056\n",
            "Epoch 49/50\n",
            "125/125 [==============================] - 1s 4ms/step - loss: 0.1001 - accuracy: 0.9702 - val_loss: 2.8626 - val_accuracy: 0.6216\n",
            "Epoch 50/50\n",
            "125/125 [==============================] - 1s 4ms/step - loss: 0.0849 - accuracy: 0.9747 - val_loss: 2.7318 - val_accuracy: 0.6206\n",
            "Model: \"sequential_1\"\n",
            "_________________________________________________________________\n",
            " Layer (type)                Output Shape              Param #   \n",
            "=================================================================\n",
            " conv2d_3 (Conv2D)           (None, 257, 11, 32)       320       \n",
            "                                                                 \n",
            " max_pooling2d_2 (MaxPoolin  (None, 129, 6, 32)        0         \n",
            " g2D)                                                            \n",
            "                                                                 \n",
            " conv2d_4 (Conv2D)           (None, 127, 4, 64)        18496     \n",
            "                                                                 \n",
            " max_pooling2d_3 (MaxPoolin  (None, 64, 2, 64)         0         \n",
            " g2D)                                                            \n",
            "                                                                 \n",
            " conv2d_5 (Conv2D)           (None, 63, 1, 128)        32896     \n",
            "                                                                 \n",
            " flatten_1 (Flatten)         (None, 8064)              0         \n",
            "                                                                 \n",
            " dense_2 (Dense)             (None, 64)                516160    \n",
            "                                                                 \n",
            " dropout_1 (Dropout)         (None, 64)                0         \n",
            "                                                                 \n",
            " dense_3 (Dense)             (None, 10)                650       \n",
            "                                                                 \n",
            "=================================================================\n",
            "Total params: 568522 (2.17 MB)\n",
            "Trainable params: 568522 (2.17 MB)\n",
            "Non-trainable params: 0 (0.00 Byte)\n",
            "_________________________________________________________________\n"
          ]
        }
      ]
    },
    {
      "cell_type": "code",
      "source": [
        "CNN.save(\"/content/drive/MyDrive/Music Genre Classifier Dataset/Base_CNN_classifier\")"
      ],
      "metadata": {
        "id": "gJzDPlYOmGRt"
      },
      "id": "gJzDPlYOmGRt",
      "execution_count": 10,
      "outputs": []
    }
  ],
  "metadata": {
    "kernelspec": {
      "display_name": "Python 3",
      "name": "python3"
    },
    "language_info": {
      "codemirror_mode": {
        "name": "ipython",
        "version": 3
      },
      "file_extension": ".py",
      "mimetype": "text/x-python",
      "name": "python",
      "nbconvert_exporter": "python",
      "pygments_lexer": "ipython3",
      "version": "3.7.16"
    },
    "colab": {
      "provenance": [],
      "gpuType": "L4"
    },
    "accelerator": "GPU"
  },
  "nbformat": 4,
  "nbformat_minor": 5
}