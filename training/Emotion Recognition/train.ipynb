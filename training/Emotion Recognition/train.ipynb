{
  "cells": [
    {
      "cell_type": "code",
      "source": [
        "from google.colab import drive\n",
        "drive.mount('/content/drive')"
      ],
      "metadata": {
        "colab": {
          "base_uri": "https://localhost:8080/"
        },
        "id": "fiCbX42ixQAc",
        "outputId": "910b6266-53eb-4521-c067-1ecb560f1484"
      },
      "id": "fiCbX42ixQAc",
      "execution_count": 1,
      "outputs": [
        {
          "output_type": "stream",
          "name": "stdout",
          "text": [
            "Mounted at /content/drive\n"
          ]
        }
      ]
    },
    {
      "cell_type": "markdown",
      "source": [
        "# 1. Reading in the data"
      ],
      "metadata": {
        "id": "FzBAed68gqRF"
      },
      "id": "FzBAed68gqRF"
    },
    {
      "cell_type": "code",
      "source": [
        "import json\n",
        "root_path = \"/content/drive/MyDrive/emotifymusic\"\n",
        "with open(root_path+\"/labels.json\", 'r') as f:\n",
        "    labels = json.load(f)"
      ],
      "metadata": {
        "id": "yO_iYN9nxhe8"
      },
      "id": "yO_iYN9nxhe8",
      "execution_count": 2,
      "outputs": []
    },
    {
      "cell_type": "code",
      "source": [
        "#mapping = [' amazement', ' solemnity', ' tenderness',' nostalgia', ' calmness', ' power', ' joyful', ' tension',' sadness']\n",
        "import pandas as pd\n",
        "labels = pd.DataFrame(labels)\n",
        "labels.head()"
      ],
      "metadata": {
        "colab": {
          "base_uri": "https://localhost:8080/",
          "height": 206
        },
        "id": "0snn7N93zEZ1",
        "outputId": "73f751a3-9f37-417d-8d2e-eb4ab190a1e7"
      },
      "id": "0snn7N93zEZ1",
      "execution_count": 3,
      "outputs": [
        {
          "output_type": "execute_result",
          "data": {
            "text/plain": [
              "         file_path      output_path  label\n",
              "0  classical/1.mp3  classical_1.mp3      4\n",
              "1  classical/1.mp3  classical_1.mp3      4\n",
              "2  classical/1.mp3  classical_1.mp3      4\n",
              "3  classical/1.mp3  classical_1.mp3      4\n",
              "4  classical/1.mp3  classical_1.mp3      4"
            ],
            "text/html": [
              "\n",
              "  <div id=\"df-6cc0f053-84e7-4d71-887f-d73d6d80ef55\" class=\"colab-df-container\">\n",
              "    <div>\n",
              "<style scoped>\n",
              "    .dataframe tbody tr th:only-of-type {\n",
              "        vertical-align: middle;\n",
              "    }\n",
              "\n",
              "    .dataframe tbody tr th {\n",
              "        vertical-align: top;\n",
              "    }\n",
              "\n",
              "    .dataframe thead th {\n",
              "        text-align: right;\n",
              "    }\n",
              "</style>\n",
              "<table border=\"1\" class=\"dataframe\">\n",
              "  <thead>\n",
              "    <tr style=\"text-align: right;\">\n",
              "      <th></th>\n",
              "      <th>file_path</th>\n",
              "      <th>output_path</th>\n",
              "      <th>label</th>\n",
              "    </tr>\n",
              "  </thead>\n",
              "  <tbody>\n",
              "    <tr>\n",
              "      <th>0</th>\n",
              "      <td>classical/1.mp3</td>\n",
              "      <td>classical_1.mp3</td>\n",
              "      <td>4</td>\n",
              "    </tr>\n",
              "    <tr>\n",
              "      <th>1</th>\n",
              "      <td>classical/1.mp3</td>\n",
              "      <td>classical_1.mp3</td>\n",
              "      <td>4</td>\n",
              "    </tr>\n",
              "    <tr>\n",
              "      <th>2</th>\n",
              "      <td>classical/1.mp3</td>\n",
              "      <td>classical_1.mp3</td>\n",
              "      <td>4</td>\n",
              "    </tr>\n",
              "    <tr>\n",
              "      <th>3</th>\n",
              "      <td>classical/1.mp3</td>\n",
              "      <td>classical_1.mp3</td>\n",
              "      <td>4</td>\n",
              "    </tr>\n",
              "    <tr>\n",
              "      <th>4</th>\n",
              "      <td>classical/1.mp3</td>\n",
              "      <td>classical_1.mp3</td>\n",
              "      <td>4</td>\n",
              "    </tr>\n",
              "  </tbody>\n",
              "</table>\n",
              "</div>\n",
              "    <div class=\"colab-df-buttons\">\n",
              "\n",
              "  <div class=\"colab-df-container\">\n",
              "    <button class=\"colab-df-convert\" onclick=\"convertToInteractive('df-6cc0f053-84e7-4d71-887f-d73d6d80ef55')\"\n",
              "            title=\"Convert this dataframe to an interactive table.\"\n",
              "            style=\"display:none;\">\n",
              "\n",
              "  <svg xmlns=\"http://www.w3.org/2000/svg\" height=\"24px\" viewBox=\"0 -960 960 960\">\n",
              "    <path d=\"M120-120v-720h720v720H120Zm60-500h600v-160H180v160Zm220 220h160v-160H400v160Zm0 220h160v-160H400v160ZM180-400h160v-160H180v160Zm440 0h160v-160H620v160ZM180-180h160v-160H180v160Zm440 0h160v-160H620v160Z\"/>\n",
              "  </svg>\n",
              "    </button>\n",
              "\n",
              "  <style>\n",
              "    .colab-df-container {\n",
              "      display:flex;\n",
              "      gap: 12px;\n",
              "    }\n",
              "\n",
              "    .colab-df-convert {\n",
              "      background-color: #E8F0FE;\n",
              "      border: none;\n",
              "      border-radius: 50%;\n",
              "      cursor: pointer;\n",
              "      display: none;\n",
              "      fill: #1967D2;\n",
              "      height: 32px;\n",
              "      padding: 0 0 0 0;\n",
              "      width: 32px;\n",
              "    }\n",
              "\n",
              "    .colab-df-convert:hover {\n",
              "      background-color: #E2EBFA;\n",
              "      box-shadow: 0px 1px 2px rgba(60, 64, 67, 0.3), 0px 1px 3px 1px rgba(60, 64, 67, 0.15);\n",
              "      fill: #174EA6;\n",
              "    }\n",
              "\n",
              "    .colab-df-buttons div {\n",
              "      margin-bottom: 4px;\n",
              "    }\n",
              "\n",
              "    [theme=dark] .colab-df-convert {\n",
              "      background-color: #3B4455;\n",
              "      fill: #D2E3FC;\n",
              "    }\n",
              "\n",
              "    [theme=dark] .colab-df-convert:hover {\n",
              "      background-color: #434B5C;\n",
              "      box-shadow: 0px 1px 3px 1px rgba(0, 0, 0, 0.15);\n",
              "      filter: drop-shadow(0px 1px 2px rgba(0, 0, 0, 0.3));\n",
              "      fill: #FFFFFF;\n",
              "    }\n",
              "  </style>\n",
              "\n",
              "    <script>\n",
              "      const buttonEl =\n",
              "        document.querySelector('#df-6cc0f053-84e7-4d71-887f-d73d6d80ef55 button.colab-df-convert');\n",
              "      buttonEl.style.display =\n",
              "        google.colab.kernel.accessAllowed ? 'block' : 'none';\n",
              "\n",
              "      async function convertToInteractive(key) {\n",
              "        const element = document.querySelector('#df-6cc0f053-84e7-4d71-887f-d73d6d80ef55');\n",
              "        const dataTable =\n",
              "          await google.colab.kernel.invokeFunction('convertToInteractive',\n",
              "                                                    [key], {});\n",
              "        if (!dataTable) return;\n",
              "\n",
              "        const docLinkHtml = 'Like what you see? Visit the ' +\n",
              "          '<a target=\"_blank\" href=https://colab.research.google.com/notebooks/data_table.ipynb>data table notebook</a>'\n",
              "          + ' to learn more about interactive tables.';\n",
              "        element.innerHTML = '';\n",
              "        dataTable['output_type'] = 'display_data';\n",
              "        await google.colab.output.renderOutput(dataTable, element);\n",
              "        const docLink = document.createElement('div');\n",
              "        docLink.innerHTML = docLinkHtml;\n",
              "        element.appendChild(docLink);\n",
              "      }\n",
              "    </script>\n",
              "  </div>\n",
              "\n",
              "\n",
              "<div id=\"df-25395d01-632e-4235-a1cb-bd3581bb1523\">\n",
              "  <button class=\"colab-df-quickchart\" onclick=\"quickchart('df-25395d01-632e-4235-a1cb-bd3581bb1523')\"\n",
              "            title=\"Suggest charts\"\n",
              "            style=\"display:none;\">\n",
              "\n",
              "<svg xmlns=\"http://www.w3.org/2000/svg\" height=\"24px\"viewBox=\"0 0 24 24\"\n",
              "     width=\"24px\">\n",
              "    <g>\n",
              "        <path d=\"M19 3H5c-1.1 0-2 .9-2 2v14c0 1.1.9 2 2 2h14c1.1 0 2-.9 2-2V5c0-1.1-.9-2-2-2zM9 17H7v-7h2v7zm4 0h-2V7h2v10zm4 0h-2v-4h2v4z\"/>\n",
              "    </g>\n",
              "</svg>\n",
              "  </button>\n",
              "\n",
              "<style>\n",
              "  .colab-df-quickchart {\n",
              "      --bg-color: #E8F0FE;\n",
              "      --fill-color: #1967D2;\n",
              "      --hover-bg-color: #E2EBFA;\n",
              "      --hover-fill-color: #174EA6;\n",
              "      --disabled-fill-color: #AAA;\n",
              "      --disabled-bg-color: #DDD;\n",
              "  }\n",
              "\n",
              "  [theme=dark] .colab-df-quickchart {\n",
              "      --bg-color: #3B4455;\n",
              "      --fill-color: #D2E3FC;\n",
              "      --hover-bg-color: #434B5C;\n",
              "      --hover-fill-color: #FFFFFF;\n",
              "      --disabled-bg-color: #3B4455;\n",
              "      --disabled-fill-color: #666;\n",
              "  }\n",
              "\n",
              "  .colab-df-quickchart {\n",
              "    background-color: var(--bg-color);\n",
              "    border: none;\n",
              "    border-radius: 50%;\n",
              "    cursor: pointer;\n",
              "    display: none;\n",
              "    fill: var(--fill-color);\n",
              "    height: 32px;\n",
              "    padding: 0;\n",
              "    width: 32px;\n",
              "  }\n",
              "\n",
              "  .colab-df-quickchart:hover {\n",
              "    background-color: var(--hover-bg-color);\n",
              "    box-shadow: 0 1px 2px rgba(60, 64, 67, 0.3), 0 1px 3px 1px rgba(60, 64, 67, 0.15);\n",
              "    fill: var(--button-hover-fill-color);\n",
              "  }\n",
              "\n",
              "  .colab-df-quickchart-complete:disabled,\n",
              "  .colab-df-quickchart-complete:disabled:hover {\n",
              "    background-color: var(--disabled-bg-color);\n",
              "    fill: var(--disabled-fill-color);\n",
              "    box-shadow: none;\n",
              "  }\n",
              "\n",
              "  .colab-df-spinner {\n",
              "    border: 2px solid var(--fill-color);\n",
              "    border-color: transparent;\n",
              "    border-bottom-color: var(--fill-color);\n",
              "    animation:\n",
              "      spin 1s steps(1) infinite;\n",
              "  }\n",
              "\n",
              "  @keyframes spin {\n",
              "    0% {\n",
              "      border-color: transparent;\n",
              "      border-bottom-color: var(--fill-color);\n",
              "      border-left-color: var(--fill-color);\n",
              "    }\n",
              "    20% {\n",
              "      border-color: transparent;\n",
              "      border-left-color: var(--fill-color);\n",
              "      border-top-color: var(--fill-color);\n",
              "    }\n",
              "    30% {\n",
              "      border-color: transparent;\n",
              "      border-left-color: var(--fill-color);\n",
              "      border-top-color: var(--fill-color);\n",
              "      border-right-color: var(--fill-color);\n",
              "    }\n",
              "    40% {\n",
              "      border-color: transparent;\n",
              "      border-right-color: var(--fill-color);\n",
              "      border-top-color: var(--fill-color);\n",
              "    }\n",
              "    60% {\n",
              "      border-color: transparent;\n",
              "      border-right-color: var(--fill-color);\n",
              "    }\n",
              "    80% {\n",
              "      border-color: transparent;\n",
              "      border-right-color: var(--fill-color);\n",
              "      border-bottom-color: var(--fill-color);\n",
              "    }\n",
              "    90% {\n",
              "      border-color: transparent;\n",
              "      border-bottom-color: var(--fill-color);\n",
              "    }\n",
              "  }\n",
              "</style>\n",
              "\n",
              "  <script>\n",
              "    async function quickchart(key) {\n",
              "      const quickchartButtonEl =\n",
              "        document.querySelector('#' + key + ' button');\n",
              "      quickchartButtonEl.disabled = true;  // To prevent multiple clicks.\n",
              "      quickchartButtonEl.classList.add('colab-df-spinner');\n",
              "      try {\n",
              "        const charts = await google.colab.kernel.invokeFunction(\n",
              "            'suggestCharts', [key], {});\n",
              "      } catch (error) {\n",
              "        console.error('Error during call to suggestCharts:', error);\n",
              "      }\n",
              "      quickchartButtonEl.classList.remove('colab-df-spinner');\n",
              "      quickchartButtonEl.classList.add('colab-df-quickchart-complete');\n",
              "    }\n",
              "    (() => {\n",
              "      let quickchartButtonEl =\n",
              "        document.querySelector('#df-25395d01-632e-4235-a1cb-bd3581bb1523 button');\n",
              "      quickchartButtonEl.style.display =\n",
              "        google.colab.kernel.accessAllowed ? 'block' : 'none';\n",
              "    })();\n",
              "  </script>\n",
              "</div>\n",
              "\n",
              "    </div>\n",
              "  </div>\n"
            ],
            "application/vnd.google.colaboratory.intrinsic+json": {
              "type": "dataframe",
              "variable_name": "labels",
              "summary": "{\n  \"name\": \"labels\",\n  \"rows\": 2385,\n  \"fields\": [\n    {\n      \"column\": \"file_path\",\n      \"properties\": {\n        \"dtype\": \"category\",\n        \"num_unique_values\": 400,\n        \"samples\": [\n          \"pop/17.mp3\",\n          \"pop/81.mp3\",\n          \"classical/39.mp3\"\n        ],\n        \"semantic_type\": \"\",\n        \"description\": \"\"\n      }\n    },\n    {\n      \"column\": \"output_path\",\n      \"properties\": {\n        \"dtype\": \"category\",\n        \"num_unique_values\": 400,\n        \"samples\": [\n          \"pop_17.mp3\",\n          \"pop_81.mp3\",\n          \"classical_39.mp3\"\n        ],\n        \"semantic_type\": \"\",\n        \"description\": \"\"\n      }\n    },\n    {\n      \"column\": \"label\",\n      \"properties\": {\n        \"dtype\": \"number\",\n        \"std\": 1,\n        \"min\": 0,\n        \"max\": 8,\n        \"num_unique_values\": 9,\n        \"samples\": [\n          7,\n          6,\n          1\n        ],\n        \"semantic_type\": \"\",\n        \"description\": \"\"\n      }\n    }\n  ]\n}"
            }
          },
          "metadata": {},
          "execution_count": 3
        }
      ]
    },
    {
      "cell_type": "code",
      "source": [
        "import numpy as np\n",
        "path = \"/content/drive/MyDrive/emotifymusic/spectrograms/\"\n",
        "log_spectrograms = []\n",
        "for index,rows in labels.iterrows():\n",
        "  spec_path =  path+rows[\"output_path\"]+\".npy\"\n",
        "  spec = np.load(spec_path)\n",
        "  log_spectrograms.append(spec)\n",
        "len(log_spectrograms)\n"
      ],
      "metadata": {
        "colab": {
          "base_uri": "https://localhost:8080/"
        },
        "id": "zigvmizHxDGA",
        "outputId": "7c027fb5-7855-44d7-d0c6-43b6625df1c9"
      },
      "id": "zigvmizHxDGA",
      "execution_count": 4,
      "outputs": [
        {
          "output_type": "execute_result",
          "data": {
            "text/plain": [
              "2385"
            ]
          },
          "metadata": {},
          "execution_count": 4
        }
      ]
    },
    {
      "cell_type": "code",
      "source": [
        "labels[\"log_spectrogram\"] = log_spectrograms\n",
        "labels.head()"
      ],
      "metadata": {
        "colab": {
          "base_uri": "https://localhost:8080/",
          "height": 206
        },
        "id": "YAWCz1pb0Q7L",
        "outputId": "75ff580d-9765-46bb-fe83-73ae866cb097"
      },
      "id": "YAWCz1pb0Q7L",
      "execution_count": 5,
      "outputs": [
        {
          "output_type": "execute_result",
          "data": {
            "text/plain": [
              "         file_path      output_path  label  \\\n",
              "0  classical/1.mp3  classical_1.mp3      4   \n",
              "1  classical/1.mp3  classical_1.mp3      4   \n",
              "2  classical/1.mp3  classical_1.mp3      4   \n",
              "3  classical/1.mp3  classical_1.mp3      4   \n",
              "4  classical/1.mp3  classical_1.mp3      4   \n",
              "\n",
              "                                     log_spectrogram  \n",
              "0  [[-23.430485, -35.5547, -31.009932, -33.170452...  \n",
              "1  [[-23.430485, -35.5547, -31.009932, -33.170452...  \n",
              "2  [[-23.430485, -35.5547, -31.009932, -33.170452...  \n",
              "3  [[-23.430485, -35.5547, -31.009932, -33.170452...  \n",
              "4  [[-23.430485, -35.5547, -31.009932, -33.170452...  "
            ],
            "text/html": [
              "\n",
              "  <div id=\"df-ba3fda7b-95a0-443d-a07c-a00492a1c07d\" class=\"colab-df-container\">\n",
              "    <div>\n",
              "<style scoped>\n",
              "    .dataframe tbody tr th:only-of-type {\n",
              "        vertical-align: middle;\n",
              "    }\n",
              "\n",
              "    .dataframe tbody tr th {\n",
              "        vertical-align: top;\n",
              "    }\n",
              "\n",
              "    .dataframe thead th {\n",
              "        text-align: right;\n",
              "    }\n",
              "</style>\n",
              "<table border=\"1\" class=\"dataframe\">\n",
              "  <thead>\n",
              "    <tr style=\"text-align: right;\">\n",
              "      <th></th>\n",
              "      <th>file_path</th>\n",
              "      <th>output_path</th>\n",
              "      <th>label</th>\n",
              "      <th>log_spectrogram</th>\n",
              "    </tr>\n",
              "  </thead>\n",
              "  <tbody>\n",
              "    <tr>\n",
              "      <th>0</th>\n",
              "      <td>classical/1.mp3</td>\n",
              "      <td>classical_1.mp3</td>\n",
              "      <td>4</td>\n",
              "      <td>[[-23.430485, -35.5547, -31.009932, -33.170452...</td>\n",
              "    </tr>\n",
              "    <tr>\n",
              "      <th>1</th>\n",
              "      <td>classical/1.mp3</td>\n",
              "      <td>classical_1.mp3</td>\n",
              "      <td>4</td>\n",
              "      <td>[[-23.430485, -35.5547, -31.009932, -33.170452...</td>\n",
              "    </tr>\n",
              "    <tr>\n",
              "      <th>2</th>\n",
              "      <td>classical/1.mp3</td>\n",
              "      <td>classical_1.mp3</td>\n",
              "      <td>4</td>\n",
              "      <td>[[-23.430485, -35.5547, -31.009932, -33.170452...</td>\n",
              "    </tr>\n",
              "    <tr>\n",
              "      <th>3</th>\n",
              "      <td>classical/1.mp3</td>\n",
              "      <td>classical_1.mp3</td>\n",
              "      <td>4</td>\n",
              "      <td>[[-23.430485, -35.5547, -31.009932, -33.170452...</td>\n",
              "    </tr>\n",
              "    <tr>\n",
              "      <th>4</th>\n",
              "      <td>classical/1.mp3</td>\n",
              "      <td>classical_1.mp3</td>\n",
              "      <td>4</td>\n",
              "      <td>[[-23.430485, -35.5547, -31.009932, -33.170452...</td>\n",
              "    </tr>\n",
              "  </tbody>\n",
              "</table>\n",
              "</div>\n",
              "    <div class=\"colab-df-buttons\">\n",
              "\n",
              "  <div class=\"colab-df-container\">\n",
              "    <button class=\"colab-df-convert\" onclick=\"convertToInteractive('df-ba3fda7b-95a0-443d-a07c-a00492a1c07d')\"\n",
              "            title=\"Convert this dataframe to an interactive table.\"\n",
              "            style=\"display:none;\">\n",
              "\n",
              "  <svg xmlns=\"http://www.w3.org/2000/svg\" height=\"24px\" viewBox=\"0 -960 960 960\">\n",
              "    <path d=\"M120-120v-720h720v720H120Zm60-500h600v-160H180v160Zm220 220h160v-160H400v160Zm0 220h160v-160H400v160ZM180-400h160v-160H180v160Zm440 0h160v-160H620v160ZM180-180h160v-160H180v160Zm440 0h160v-160H620v160Z\"/>\n",
              "  </svg>\n",
              "    </button>\n",
              "\n",
              "  <style>\n",
              "    .colab-df-container {\n",
              "      display:flex;\n",
              "      gap: 12px;\n",
              "    }\n",
              "\n",
              "    .colab-df-convert {\n",
              "      background-color: #E8F0FE;\n",
              "      border: none;\n",
              "      border-radius: 50%;\n",
              "      cursor: pointer;\n",
              "      display: none;\n",
              "      fill: #1967D2;\n",
              "      height: 32px;\n",
              "      padding: 0 0 0 0;\n",
              "      width: 32px;\n",
              "    }\n",
              "\n",
              "    .colab-df-convert:hover {\n",
              "      background-color: #E2EBFA;\n",
              "      box-shadow: 0px 1px 2px rgba(60, 64, 67, 0.3), 0px 1px 3px 1px rgba(60, 64, 67, 0.15);\n",
              "      fill: #174EA6;\n",
              "    }\n",
              "\n",
              "    .colab-df-buttons div {\n",
              "      margin-bottom: 4px;\n",
              "    }\n",
              "\n",
              "    [theme=dark] .colab-df-convert {\n",
              "      background-color: #3B4455;\n",
              "      fill: #D2E3FC;\n",
              "    }\n",
              "\n",
              "    [theme=dark] .colab-df-convert:hover {\n",
              "      background-color: #434B5C;\n",
              "      box-shadow: 0px 1px 3px 1px rgba(0, 0, 0, 0.15);\n",
              "      filter: drop-shadow(0px 1px 2px rgba(0, 0, 0, 0.3));\n",
              "      fill: #FFFFFF;\n",
              "    }\n",
              "  </style>\n",
              "\n",
              "    <script>\n",
              "      const buttonEl =\n",
              "        document.querySelector('#df-ba3fda7b-95a0-443d-a07c-a00492a1c07d button.colab-df-convert');\n",
              "      buttonEl.style.display =\n",
              "        google.colab.kernel.accessAllowed ? 'block' : 'none';\n",
              "\n",
              "      async function convertToInteractive(key) {\n",
              "        const element = document.querySelector('#df-ba3fda7b-95a0-443d-a07c-a00492a1c07d');\n",
              "        const dataTable =\n",
              "          await google.colab.kernel.invokeFunction('convertToInteractive',\n",
              "                                                    [key], {});\n",
              "        if (!dataTable) return;\n",
              "\n",
              "        const docLinkHtml = 'Like what you see? Visit the ' +\n",
              "          '<a target=\"_blank\" href=https://colab.research.google.com/notebooks/data_table.ipynb>data table notebook</a>'\n",
              "          + ' to learn more about interactive tables.';\n",
              "        element.innerHTML = '';\n",
              "        dataTable['output_type'] = 'display_data';\n",
              "        await google.colab.output.renderOutput(dataTable, element);\n",
              "        const docLink = document.createElement('div');\n",
              "        docLink.innerHTML = docLinkHtml;\n",
              "        element.appendChild(docLink);\n",
              "      }\n",
              "    </script>\n",
              "  </div>\n",
              "\n",
              "\n",
              "<div id=\"df-28f0984b-09c5-4b3f-8fa0-7c32ce6ec73e\">\n",
              "  <button class=\"colab-df-quickchart\" onclick=\"quickchart('df-28f0984b-09c5-4b3f-8fa0-7c32ce6ec73e')\"\n",
              "            title=\"Suggest charts\"\n",
              "            style=\"display:none;\">\n",
              "\n",
              "<svg xmlns=\"http://www.w3.org/2000/svg\" height=\"24px\"viewBox=\"0 0 24 24\"\n",
              "     width=\"24px\">\n",
              "    <g>\n",
              "        <path d=\"M19 3H5c-1.1 0-2 .9-2 2v14c0 1.1.9 2 2 2h14c1.1 0 2-.9 2-2V5c0-1.1-.9-2-2-2zM9 17H7v-7h2v7zm4 0h-2V7h2v10zm4 0h-2v-4h2v4z\"/>\n",
              "    </g>\n",
              "</svg>\n",
              "  </button>\n",
              "\n",
              "<style>\n",
              "  .colab-df-quickchart {\n",
              "      --bg-color: #E8F0FE;\n",
              "      --fill-color: #1967D2;\n",
              "      --hover-bg-color: #E2EBFA;\n",
              "      --hover-fill-color: #174EA6;\n",
              "      --disabled-fill-color: #AAA;\n",
              "      --disabled-bg-color: #DDD;\n",
              "  }\n",
              "\n",
              "  [theme=dark] .colab-df-quickchart {\n",
              "      --bg-color: #3B4455;\n",
              "      --fill-color: #D2E3FC;\n",
              "      --hover-bg-color: #434B5C;\n",
              "      --hover-fill-color: #FFFFFF;\n",
              "      --disabled-bg-color: #3B4455;\n",
              "      --disabled-fill-color: #666;\n",
              "  }\n",
              "\n",
              "  .colab-df-quickchart {\n",
              "    background-color: var(--bg-color);\n",
              "    border: none;\n",
              "    border-radius: 50%;\n",
              "    cursor: pointer;\n",
              "    display: none;\n",
              "    fill: var(--fill-color);\n",
              "    height: 32px;\n",
              "    padding: 0;\n",
              "    width: 32px;\n",
              "  }\n",
              "\n",
              "  .colab-df-quickchart:hover {\n",
              "    background-color: var(--hover-bg-color);\n",
              "    box-shadow: 0 1px 2px rgba(60, 64, 67, 0.3), 0 1px 3px 1px rgba(60, 64, 67, 0.15);\n",
              "    fill: var(--button-hover-fill-color);\n",
              "  }\n",
              "\n",
              "  .colab-df-quickchart-complete:disabled,\n",
              "  .colab-df-quickchart-complete:disabled:hover {\n",
              "    background-color: var(--disabled-bg-color);\n",
              "    fill: var(--disabled-fill-color);\n",
              "    box-shadow: none;\n",
              "  }\n",
              "\n",
              "  .colab-df-spinner {\n",
              "    border: 2px solid var(--fill-color);\n",
              "    border-color: transparent;\n",
              "    border-bottom-color: var(--fill-color);\n",
              "    animation:\n",
              "      spin 1s steps(1) infinite;\n",
              "  }\n",
              "\n",
              "  @keyframes spin {\n",
              "    0% {\n",
              "      border-color: transparent;\n",
              "      border-bottom-color: var(--fill-color);\n",
              "      border-left-color: var(--fill-color);\n",
              "    }\n",
              "    20% {\n",
              "      border-color: transparent;\n",
              "      border-left-color: var(--fill-color);\n",
              "      border-top-color: var(--fill-color);\n",
              "    }\n",
              "    30% {\n",
              "      border-color: transparent;\n",
              "      border-left-color: var(--fill-color);\n",
              "      border-top-color: var(--fill-color);\n",
              "      border-right-color: var(--fill-color);\n",
              "    }\n",
              "    40% {\n",
              "      border-color: transparent;\n",
              "      border-right-color: var(--fill-color);\n",
              "      border-top-color: var(--fill-color);\n",
              "    }\n",
              "    60% {\n",
              "      border-color: transparent;\n",
              "      border-right-color: var(--fill-color);\n",
              "    }\n",
              "    80% {\n",
              "      border-color: transparent;\n",
              "      border-right-color: var(--fill-color);\n",
              "      border-bottom-color: var(--fill-color);\n",
              "    }\n",
              "    90% {\n",
              "      border-color: transparent;\n",
              "      border-bottom-color: var(--fill-color);\n",
              "    }\n",
              "  }\n",
              "</style>\n",
              "\n",
              "  <script>\n",
              "    async function quickchart(key) {\n",
              "      const quickchartButtonEl =\n",
              "        document.querySelector('#' + key + ' button');\n",
              "      quickchartButtonEl.disabled = true;  // To prevent multiple clicks.\n",
              "      quickchartButtonEl.classList.add('colab-df-spinner');\n",
              "      try {\n",
              "        const charts = await google.colab.kernel.invokeFunction(\n",
              "            'suggestCharts', [key], {});\n",
              "      } catch (error) {\n",
              "        console.error('Error during call to suggestCharts:', error);\n",
              "      }\n",
              "      quickchartButtonEl.classList.remove('colab-df-spinner');\n",
              "      quickchartButtonEl.classList.add('colab-df-quickchart-complete');\n",
              "    }\n",
              "    (() => {\n",
              "      let quickchartButtonEl =\n",
              "        document.querySelector('#df-28f0984b-09c5-4b3f-8fa0-7c32ce6ec73e button');\n",
              "      quickchartButtonEl.style.display =\n",
              "        google.colab.kernel.accessAllowed ? 'block' : 'none';\n",
              "    })();\n",
              "  </script>\n",
              "</div>\n",
              "\n",
              "    </div>\n",
              "  </div>\n"
            ],
            "application/vnd.google.colaboratory.intrinsic+json": {
              "type": "dataframe",
              "variable_name": "labels",
              "summary": "{\n  \"name\": \"labels\",\n  \"rows\": 2385,\n  \"fields\": [\n    {\n      \"column\": \"file_path\",\n      \"properties\": {\n        \"dtype\": \"category\",\n        \"num_unique_values\": 400,\n        \"samples\": [\n          \"pop/17.mp3\",\n          \"pop/81.mp3\",\n          \"classical/39.mp3\"\n        ],\n        \"semantic_type\": \"\",\n        \"description\": \"\"\n      }\n    },\n    {\n      \"column\": \"output_path\",\n      \"properties\": {\n        \"dtype\": \"category\",\n        \"num_unique_values\": 400,\n        \"samples\": [\n          \"pop_17.mp3\",\n          \"pop_81.mp3\",\n          \"classical_39.mp3\"\n        ],\n        \"semantic_type\": \"\",\n        \"description\": \"\"\n      }\n    },\n    {\n      \"column\": \"label\",\n      \"properties\": {\n        \"dtype\": \"number\",\n        \"std\": 1,\n        \"min\": 0,\n        \"max\": 8,\n        \"num_unique_values\": 9,\n        \"samples\": [\n          7,\n          6,\n          1\n        ],\n        \"semantic_type\": \"\",\n        \"description\": \"\"\n      }\n    },\n    {\n      \"column\": \"log_spectrogram\",\n      \"properties\": {\n        \"dtype\": \"object\",\n        \"semantic_type\": \"\",\n        \"description\": \"\"\n      }\n    }\n  ]\n}"
            }
          },
          "metadata": {},
          "execution_count": 5
        }
      ]
    },
    {
      "cell_type": "code",
      "source": [
        "# input shape 1024*431\n",
        "list(labels[\"log_spectrogram\"])[0][1][1]"
      ],
      "metadata": {
        "colab": {
          "base_uri": "https://localhost:8080/"
        },
        "id": "rlqIWUNNf7qc",
        "outputId": "067f73cf-7f33-4c47-8c87-4ccefead9f87"
      },
      "id": "rlqIWUNNf7qc",
      "execution_count": 6,
      "outputs": [
        {
          "output_type": "execute_result",
          "data": {
            "text/plain": [
              "-23.384499"
            ]
          },
          "metadata": {},
          "execution_count": 6
        }
      ]
    },
    {
      "cell_type": "markdown",
      "source": [
        "# 2. Train test split"
      ],
      "metadata": {
        "id": "y-340nQFgtrK"
      },
      "id": "y-340nQFgtrK"
    },
    {
      "cell_type": "code",
      "source": [
        "from sklearn.model_selection import train_test_split\n",
        "import tensorflow as tf\n",
        "\n",
        "X = np.array(list(labels[\"log_spectrogram\"])).astype(\"float32\")\n",
        "X = X[...,np.newaxis]\n",
        "y = np.array(labels[\"label\"])\n",
        "X_train, X_test, y_train, y_test = train_test_split(X, y, test_size=0.2, random_state=42)\n",
        "\n"
      ],
      "metadata": {
        "id": "_3P9A_oagoad"
      },
      "id": "_3P9A_oagoad",
      "execution_count": 7,
      "outputs": []
    },
    {
      "cell_type": "code",
      "source": [
        "X_train.shape"
      ],
      "metadata": {
        "colab": {
          "base_uri": "https://localhost:8080/"
        },
        "id": "Ag62VwGvquDJ",
        "outputId": "5e812164-b57a-42a8-9239-20e7ded74f5d"
      },
      "id": "Ag62VwGvquDJ",
      "execution_count": null,
      "outputs": [
        {
          "output_type": "execute_result",
          "data": {
            "text/plain": [
              "(1908, 1024, 431, 1)"
            ]
          },
          "metadata": {},
          "execution_count": 104
        }
      ]
    },
    {
      "cell_type": "markdown",
      "source": [
        "# 3. Builiding the basic A2E model\n"
      ],
      "metadata": {
        "id": "SmKEn4qXh6ON"
      },
      "id": "SmKEn4qXh6ON"
    },
    {
      "cell_type": "code",
      "execution_count": 8,
      "id": "165c3864",
      "metadata": {
        "id": "165c3864"
      },
      "outputs": [],
      "source": [
        "import tensorflow.keras as keras\n",
        "from tensorflow.keras import layers\n",
        "\n",
        "model = keras.Sequential()\n",
        "model.add(keras.layers.Conv2D(64, (5, 5), strides=2, activation=\"relu\", padding=\"valid\",input_shape = (X_train.shape[1],X_train.shape[2],1)))\n",
        "model.add(keras.layers.BatchNormalization())\n",
        "\n",
        "# 2nd Layer\n",
        "model.add(keras.layers.Conv2D(64, (3, 3), strides=1, activation=\"relu\", padding=\"same\"))\n",
        "model.add(keras.layers.BatchNormalization())\n",
        "\n",
        "# 3rd Layer\n",
        "model.add(keras.layers.MaxPooling2D((2, 2)))\n",
        "model.add(keras.layers.Dropout(0.3))\n",
        "\n",
        "# 4th Layer\n",
        "model.add(keras.layers.Conv2D(128, (3, 3), strides=1, activation=\"relu\", padding=\"same\"))\n",
        "model.add(keras.layers.BatchNormalization())\n",
        "\n",
        "# 5th Layer\n",
        "model.add(keras.layers.Conv2D(128, (3, 3), strides=1, activation=\"relu\", padding=\"same\"))\n",
        "model.add(keras.layers.BatchNormalization())\n",
        "\n",
        "# 6th Layer\n",
        "model.add(keras.layers.MaxPooling2D((2, 2)))\n",
        "model.add(keras.layers.Dropout(0.3))\n",
        "\n",
        "# 7th Layer\n",
        "model.add(keras.layers.Conv2D(256, (3, 3), strides=1, activation=\"relu\", padding=\"same\"))\n",
        "model.add(keras.layers.BatchNormalization())\n",
        "\n",
        "# 8th Layer\n",
        "model.add(keras.layers.Conv2D(256, (3, 3), strides=1, activation=\"relu\", padding=\"same\"))\n",
        "model.add(keras.layers.BatchNormalization())\n",
        "\n",
        "# 9th Layer\n",
        "model.add(keras.layers.Conv2D(384, (3, 3), strides=1, activation=\"relu\", padding=\"same\"))\n",
        "model.add(keras.layers.BatchNormalization())\n",
        "\n",
        "# 10th Layer\n",
        "model.add(keras.layers.Conv2D(512, (3, 3), strides=1, activation=\"relu\", padding=\"same\"))\n",
        "model.add(keras.layers.BatchNormalization())\n",
        "\n",
        "# 11th Layer\n",
        "model.add(keras.layers.Conv2D(256, (3, 3), strides=1, activation=\"relu\", padding=\"same\"))\n",
        "model.add(keras.layers.BatchNormalization())\n",
        "\n",
        "# 12th layer Dense\n",
        "model.add(keras.layers.Flatten())\n",
        "model.add(keras.layers.Dense(9,activation=\"softmax\"))"
      ]
    },
    {
      "cell_type": "markdown",
      "source": [
        "# 4. Training the model"
      ],
      "metadata": {
        "id": "Ve4M7S22ijIs"
      },
      "id": "Ve4M7S22ijIs"
    },
    {
      "cell_type": "code",
      "source": [
        "optimiser = keras.optimizers.Adam(learning_rate=0.0005)\n",
        "model.compile(optimizer=optimiser,loss=\"sparse_categorical_crossentropy\",metrics=[\"accuracy\"])\n",
        "history_model = model.fit(X_train, y_train, epochs = 30, batch_size=8, validation_data=(X_test,y_test))\n",
        "model.summary()"
      ],
      "metadata": {
        "colab": {
          "base_uri": "https://localhost:8080/"
        },
        "id": "Tu8VijEIh8x6",
        "outputId": "5b091e0a-11b0-4726-df7d-326764d59cac"
      },
      "id": "Tu8VijEIh8x6",
      "execution_count": 9,
      "outputs": [
        {
          "output_type": "stream",
          "name": "stdout",
          "text": [
            "Epoch 1/30\n",
            "239/239 [==============================] - 90s 300ms/step - loss: 170.7272 - accuracy: 0.2406 - val_loss: 1038.8773 - val_accuracy: 0.1719\n",
            "Epoch 2/30\n",
            "239/239 [==============================] - 63s 266ms/step - loss: 163.1389 - accuracy: 0.4099 - val_loss: 161.0257 - val_accuracy: 0.5597\n",
            "Epoch 3/30\n",
            "239/239 [==============================] - 63s 265ms/step - loss: 30.0742 - accuracy: 0.8176 - val_loss: 26.6493 - val_accuracy: 0.8763\n",
            "Epoch 4/30\n",
            "239/239 [==============================] - 63s 264ms/step - loss: 9.1122 - accuracy: 0.9376 - val_loss: 11.1248 - val_accuracy: 0.9224\n",
            "Epoch 5/30\n",
            "239/239 [==============================] - 63s 263ms/step - loss: 5.4652 - accuracy: 0.9544 - val_loss: 11.9094 - val_accuracy: 0.9078\n",
            "Epoch 6/30\n",
            "239/239 [==============================] - 63s 263ms/step - loss: 4.8064 - accuracy: 0.9612 - val_loss: 25.8226 - val_accuracy: 0.8512\n",
            "Epoch 7/30\n",
            "239/239 [==============================] - 63s 263ms/step - loss: 5.4467 - accuracy: 0.9560 - val_loss: 4.1014 - val_accuracy: 0.9602\n",
            "Epoch 8/30\n",
            "239/239 [==============================] - 63s 263ms/step - loss: 5.9593 - accuracy: 0.9586 - val_loss: 54.0170 - val_accuracy: 0.8931\n",
            "Epoch 9/30\n",
            "239/239 [==============================] - 63s 262ms/step - loss: 4.3393 - accuracy: 0.9722 - val_loss: 39.3506 - val_accuracy: 0.9119\n",
            "Epoch 10/30\n",
            "239/239 [==============================] - 63s 262ms/step - loss: 4.3284 - accuracy: 0.9691 - val_loss: 13.3534 - val_accuracy: 0.9308\n",
            "Epoch 11/30\n",
            "239/239 [==============================] - 63s 262ms/step - loss: 3.4280 - accuracy: 0.9780 - val_loss: 0.5785 - val_accuracy: 0.9853\n",
            "Epoch 12/30\n",
            "239/239 [==============================] - 63s 262ms/step - loss: 2.4034 - accuracy: 0.9822 - val_loss: 3.0217 - val_accuracy: 0.9832\n",
            "Epoch 13/30\n",
            "239/239 [==============================] - 63s 262ms/step - loss: 3.8533 - accuracy: 0.9775 - val_loss: 0.3525 - val_accuracy: 0.9937\n",
            "Epoch 14/30\n",
            "239/239 [==============================] - 62s 261ms/step - loss: 0.8592 - accuracy: 0.9937 - val_loss: 1.2851 - val_accuracy: 0.9916\n",
            "Epoch 15/30\n",
            "239/239 [==============================] - 62s 261ms/step - loss: 2.1455 - accuracy: 0.9822 - val_loss: 12.9712 - val_accuracy: 0.9476\n",
            "Epoch 16/30\n",
            "239/239 [==============================] - 62s 261ms/step - loss: 1.3760 - accuracy: 0.9869 - val_loss: 5.7117 - val_accuracy: 0.9727\n",
            "Epoch 17/30\n",
            "239/239 [==============================] - 63s 262ms/step - loss: 4.9826 - accuracy: 0.9743 - val_loss: 9.8348 - val_accuracy: 0.9706\n",
            "Epoch 18/30\n",
            "239/239 [==============================] - 63s 262ms/step - loss: 6.5496 - accuracy: 0.9659 - val_loss: 16.1171 - val_accuracy: 0.9329\n",
            "Epoch 19/30\n",
            "239/239 [==============================] - 62s 261ms/step - loss: 1.2011 - accuracy: 0.9916 - val_loss: 0.1075 - val_accuracy: 0.9979\n",
            "Epoch 20/30\n",
            "239/239 [==============================] - 62s 261ms/step - loss: 1.5630 - accuracy: 0.9927 - val_loss: 2.4870 - val_accuracy: 0.9811\n",
            "Epoch 21/30\n",
            "239/239 [==============================] - 62s 261ms/step - loss: 1.3820 - accuracy: 0.9879 - val_loss: 0.9497 - val_accuracy: 0.9895\n",
            "Epoch 22/30\n",
            "239/239 [==============================] - 62s 261ms/step - loss: 2.0221 - accuracy: 0.9858 - val_loss: 22.4552 - val_accuracy: 0.9602\n",
            "Epoch 23/30\n",
            "239/239 [==============================] - 62s 261ms/step - loss: 3.1861 - accuracy: 0.9869 - val_loss: 8.0246 - val_accuracy: 0.9727\n",
            "Epoch 24/30\n",
            "239/239 [==============================] - 62s 261ms/step - loss: 3.1293 - accuracy: 0.9874 - val_loss: 3.3174 - val_accuracy: 0.9748\n",
            "Epoch 25/30\n",
            "239/239 [==============================] - 62s 260ms/step - loss: 0.8508 - accuracy: 0.9937 - val_loss: 5.5822 - val_accuracy: 0.9853\n",
            "Epoch 26/30\n",
            "239/239 [==============================] - 62s 261ms/step - loss: 1.2868 - accuracy: 0.9916 - val_loss: 1.1180 - val_accuracy: 0.9958\n",
            "Epoch 27/30\n",
            "239/239 [==============================] - 62s 261ms/step - loss: 3.0208 - accuracy: 0.9900 - val_loss: 17.3522 - val_accuracy: 0.9539\n",
            "Epoch 28/30\n",
            "239/239 [==============================] - 62s 260ms/step - loss: 0.9943 - accuracy: 0.9948 - val_loss: 0.6801 - val_accuracy: 0.9937\n",
            "Epoch 29/30\n",
            "239/239 [==============================] - 62s 261ms/step - loss: 1.0017 - accuracy: 0.9937 - val_loss: 1.9045e-06 - val_accuracy: 1.0000\n",
            "Epoch 30/30\n",
            "239/239 [==============================] - 62s 260ms/step - loss: 0.3578 - accuracy: 0.9979 - val_loss: 0.0000e+00 - val_accuracy: 1.0000\n",
            "Model: \"sequential\"\n",
            "_________________________________________________________________\n",
            " Layer (type)                Output Shape              Param #   \n",
            "=================================================================\n",
            " conv2d (Conv2D)             (None, 510, 214, 64)      1664      \n",
            "                                                                 \n",
            " batch_normalization (Batch  (None, 510, 214, 64)      256       \n",
            " Normalization)                                                  \n",
            "                                                                 \n",
            " conv2d_1 (Conv2D)           (None, 510, 214, 64)      36928     \n",
            "                                                                 \n",
            " batch_normalization_1 (Bat  (None, 510, 214, 64)      256       \n",
            " chNormalization)                                                \n",
            "                                                                 \n",
            " max_pooling2d (MaxPooling2  (None, 255, 107, 64)      0         \n",
            " D)                                                              \n",
            "                                                                 \n",
            " dropout (Dropout)           (None, 255, 107, 64)      0         \n",
            "                                                                 \n",
            " conv2d_2 (Conv2D)           (None, 255, 107, 128)     73856     \n",
            "                                                                 \n",
            " batch_normalization_2 (Bat  (None, 255, 107, 128)     512       \n",
            " chNormalization)                                                \n",
            "                                                                 \n",
            " conv2d_3 (Conv2D)           (None, 255, 107, 128)     147584    \n",
            "                                                                 \n",
            " batch_normalization_3 (Bat  (None, 255, 107, 128)     512       \n",
            " chNormalization)                                                \n",
            "                                                                 \n",
            " max_pooling2d_1 (MaxPoolin  (None, 127, 53, 128)      0         \n",
            " g2D)                                                            \n",
            "                                                                 \n",
            " dropout_1 (Dropout)         (None, 127, 53, 128)      0         \n",
            "                                                                 \n",
            " conv2d_4 (Conv2D)           (None, 127, 53, 256)      295168    \n",
            "                                                                 \n",
            " batch_normalization_4 (Bat  (None, 127, 53, 256)      1024      \n",
            " chNormalization)                                                \n",
            "                                                                 \n",
            " conv2d_5 (Conv2D)           (None, 127, 53, 256)      590080    \n",
            "                                                                 \n",
            " batch_normalization_5 (Bat  (None, 127, 53, 256)      1024      \n",
            " chNormalization)                                                \n",
            "                                                                 \n",
            " conv2d_6 (Conv2D)           (None, 127, 53, 384)      885120    \n",
            "                                                                 \n",
            " batch_normalization_6 (Bat  (None, 127, 53, 384)      1536      \n",
            " chNormalization)                                                \n",
            "                                                                 \n",
            " conv2d_7 (Conv2D)           (None, 127, 53, 512)      1769984   \n",
            "                                                                 \n",
            " batch_normalization_7 (Bat  (None, 127, 53, 512)      2048      \n",
            " chNormalization)                                                \n",
            "                                                                 \n",
            " conv2d_8 (Conv2D)           (None, 127, 53, 256)      1179904   \n",
            "                                                                 \n",
            " batch_normalization_8 (Bat  (None, 127, 53, 256)      1024      \n",
            " chNormalization)                                                \n",
            "                                                                 \n",
            " flatten (Flatten)           (None, 1723136)           0         \n",
            "                                                                 \n",
            " dense (Dense)               (None, 9)                 15508233  \n",
            "                                                                 \n",
            "=================================================================\n",
            "Total params: 20496713 (78.19 MB)\n",
            "Trainable params: 20492617 (78.17 MB)\n",
            "Non-trainable params: 4096 (16.00 KB)\n",
            "_________________________________________________________________\n"
          ]
        }
      ]
    },
    {
      "cell_type": "code",
      "source": [
        "#model.save('/content/drive/MyDrive/emotifymusic/emotion_model.keras')\n",
        "model.save('/content/drive/MyDrive/emotifymusic/emotion_model.h5')"
      ],
      "metadata": {
        "id": "R4ZNGheyiH_p",
        "outputId": "d5467657-9084-4a64-a536-2fefcb3bc016",
        "colab": {
          "base_uri": "https://localhost:8080/"
        }
      },
      "id": "R4ZNGheyiH_p",
      "execution_count": 13,
      "outputs": [
        {
          "output_type": "stream",
          "name": "stderr",
          "text": [
            "/usr/local/lib/python3.10/dist-packages/keras/src/engine/training.py:3103: UserWarning: You are saving your model as an HDF5 file via `model.save()`. This file format is considered legacy. We recommend using instead the native Keras format, e.g. `model.save('my_model.keras')`.\n",
            "  saving_api.save_model(\n"
          ]
        }
      ]
    },
    {
      "cell_type": "code",
      "source": [
        "loaded_model = tf.keras.models.load_model('/content/drive/MyDrive/emotifymusic/emotion_model.h5')"
      ],
      "metadata": {
        "id": "oadEW4Zo37Cq",
        "outputId": "ff2f88ef-dce6-4040-8503-02c98f0890a0",
        "colab": {
          "base_uri": "https://localhost:8080/",
          "height": 287
        }
      },
      "id": "oadEW4Zo37Cq",
      "execution_count": 12,
      "outputs": [
        {
          "output_type": "error",
          "ename": "OSError",
          "evalue": "No file or directory found at /content/drive/MyDrive/emotifymusic/emotion_model.h5",
          "traceback": [
            "\u001b[0;31m---------------------------------------------------------------------------\u001b[0m",
            "\u001b[0;31mOSError\u001b[0m                                   Traceback (most recent call last)",
            "\u001b[0;32m<ipython-input-12-bc7283e16011>\u001b[0m in \u001b[0;36m<cell line: 1>\u001b[0;34m()\u001b[0m\n\u001b[0;32m----> 1\u001b[0;31m \u001b[0mloaded_model\u001b[0m \u001b[0;34m=\u001b[0m \u001b[0mtf\u001b[0m\u001b[0;34m.\u001b[0m\u001b[0mkeras\u001b[0m\u001b[0;34m.\u001b[0m\u001b[0mmodels\u001b[0m\u001b[0;34m.\u001b[0m\u001b[0mload_model\u001b[0m\u001b[0;34m(\u001b[0m\u001b[0;34m'/content/drive/MyDrive/emotifymusic/emotion_model.h5'\u001b[0m\u001b[0;34m)\u001b[0m\u001b[0;34m\u001b[0m\u001b[0;34m\u001b[0m\u001b[0m\n\u001b[0m",
            "\u001b[0;32m/usr/local/lib/python3.10/dist-packages/keras/src/saving/saving_api.py\u001b[0m in \u001b[0;36mload_model\u001b[0;34m(filepath, custom_objects, compile, safe_mode, **kwargs)\u001b[0m\n\u001b[1;32m    260\u001b[0m \u001b[0;34m\u001b[0m\u001b[0m\n\u001b[1;32m    261\u001b[0m     \u001b[0;31m# Legacy case.\u001b[0m\u001b[0;34m\u001b[0m\u001b[0;34m\u001b[0m\u001b[0m\n\u001b[0;32m--> 262\u001b[0;31m     return legacy_sm_saving_lib.load_model(\n\u001b[0m\u001b[1;32m    263\u001b[0m         \u001b[0mfilepath\u001b[0m\u001b[0;34m,\u001b[0m \u001b[0mcustom_objects\u001b[0m\u001b[0;34m=\u001b[0m\u001b[0mcustom_objects\u001b[0m\u001b[0;34m,\u001b[0m \u001b[0mcompile\u001b[0m\u001b[0;34m=\u001b[0m\u001b[0mcompile\u001b[0m\u001b[0;34m,\u001b[0m \u001b[0;34m**\u001b[0m\u001b[0mkwargs\u001b[0m\u001b[0;34m\u001b[0m\u001b[0;34m\u001b[0m\u001b[0m\n\u001b[1;32m    264\u001b[0m     )\n",
            "\u001b[0;32m/usr/local/lib/python3.10/dist-packages/keras/src/utils/traceback_utils.py\u001b[0m in \u001b[0;36merror_handler\u001b[0;34m(*args, **kwargs)\u001b[0m\n\u001b[1;32m     68\u001b[0m             \u001b[0;31m# To get the full stack trace, call:\u001b[0m\u001b[0;34m\u001b[0m\u001b[0;34m\u001b[0m\u001b[0m\n\u001b[1;32m     69\u001b[0m             \u001b[0;31m# `tf.debugging.disable_traceback_filtering()`\u001b[0m\u001b[0;34m\u001b[0m\u001b[0;34m\u001b[0m\u001b[0m\n\u001b[0;32m---> 70\u001b[0;31m             \u001b[0;32mraise\u001b[0m \u001b[0me\u001b[0m\u001b[0;34m.\u001b[0m\u001b[0mwith_traceback\u001b[0m\u001b[0;34m(\u001b[0m\u001b[0mfiltered_tb\u001b[0m\u001b[0;34m)\u001b[0m \u001b[0;32mfrom\u001b[0m \u001b[0;32mNone\u001b[0m\u001b[0;34m\u001b[0m\u001b[0;34m\u001b[0m\u001b[0m\n\u001b[0m\u001b[1;32m     71\u001b[0m         \u001b[0;32mfinally\u001b[0m\u001b[0;34m:\u001b[0m\u001b[0;34m\u001b[0m\u001b[0;34m\u001b[0m\u001b[0m\n\u001b[1;32m     72\u001b[0m             \u001b[0;32mdel\u001b[0m \u001b[0mfiltered_tb\u001b[0m\u001b[0;34m\u001b[0m\u001b[0;34m\u001b[0m\u001b[0m\n",
            "\u001b[0;32m/usr/local/lib/python3.10/dist-packages/keras/src/saving/legacy/save.py\u001b[0m in \u001b[0;36mload_model\u001b[0;34m(filepath, custom_objects, compile, options)\u001b[0m\n\u001b[1;32m    232\u001b[0m                     \u001b[0;32mif\u001b[0m \u001b[0misinstance\u001b[0m\u001b[0;34m(\u001b[0m\u001b[0mfilepath_str\u001b[0m\u001b[0;34m,\u001b[0m \u001b[0mstr\u001b[0m\u001b[0;34m)\u001b[0m\u001b[0;34m:\u001b[0m\u001b[0;34m\u001b[0m\u001b[0;34m\u001b[0m\u001b[0m\n\u001b[1;32m    233\u001b[0m                         \u001b[0;32mif\u001b[0m \u001b[0;32mnot\u001b[0m \u001b[0mtf\u001b[0m\u001b[0;34m.\u001b[0m\u001b[0mio\u001b[0m\u001b[0;34m.\u001b[0m\u001b[0mgfile\u001b[0m\u001b[0;34m.\u001b[0m\u001b[0mexists\u001b[0m\u001b[0;34m(\u001b[0m\u001b[0mfilepath_str\u001b[0m\u001b[0;34m)\u001b[0m\u001b[0;34m:\u001b[0m\u001b[0;34m\u001b[0m\u001b[0;34m\u001b[0m\u001b[0m\n\u001b[0;32m--> 234\u001b[0;31m                             raise IOError(\n\u001b[0m\u001b[1;32m    235\u001b[0m                                 \u001b[0;34mf\"No file or directory found at {filepath_str}\"\u001b[0m\u001b[0;34m\u001b[0m\u001b[0;34m\u001b[0m\u001b[0m\n\u001b[1;32m    236\u001b[0m                             )\n",
            "\u001b[0;31mOSError\u001b[0m: No file or directory found at /content/drive/MyDrive/emotifymusic/emotion_model.h5"
          ]
        }
      ]
    },
    {
      "cell_type": "markdown",
      "source": [
        "# 4. Inference with loaded model"
      ],
      "metadata": {
        "id": "u3Kq4a6S42zE"
      },
      "id": "u3Kq4a6S42zE"
    },
    {
      "cell_type": "code",
      "source": [
        "#loaded_model.predict(X_test[0])\n",
        "single_test = X_test[0]\n",
        "single_test = np.expand_dims(single_test, axis=0)\n",
        "results = loaded_model.predict(single_test)"
      ],
      "metadata": {
        "id": "b0pWao4K4Bhi",
        "outputId": "c48f0a7e-17ae-44fa-8252-b7834c96136c",
        "colab": {
          "base_uri": "https://localhost:8080/"
        }
      },
      "id": "b0pWao4K4Bhi",
      "execution_count": null,
      "outputs": [
        {
          "output_type": "stream",
          "name": "stdout",
          "text": [
            "1/1 [==============================] - 0s 23ms/step\n"
          ]
        }
      ]
    },
    {
      "cell_type": "code",
      "source": [
        "mapping = [' amazement', ' solemnity', ' tenderness',' nostalgia', ' calmness', ' power', ' joyful', ' tension',' sadness']\n",
        "\n",
        "mapping[np.argmax(results)]"
      ],
      "metadata": {
        "id": "XLuqMbxT4dfI",
        "outputId": "470e4421-6683-4ecd-e062-0b5b43d87ec5",
        "colab": {
          "base_uri": "https://localhost:8080/",
          "height": 36
        }
      },
      "id": "XLuqMbxT4dfI",
      "execution_count": null,
      "outputs": [
        {
          "output_type": "execute_result",
          "data": {
            "text/plain": [
              "' nostalgia'"
            ],
            "application/vnd.google.colaboratory.intrinsic+json": {
              "type": "string"
            }
          },
          "metadata": {},
          "execution_count": 121
        }
      ]
    },
    {
      "cell_type": "code",
      "source": [],
      "metadata": {
        "id": "QUPlqUL94-Ir",
        "outputId": "8d6d8b1d-5929-4dbe-d1eb-1b1d5905bcc1",
        "colab": {
          "base_uri": "https://localhost:8080/"
        }
      },
      "id": "QUPlqUL94-Ir",
      "execution_count": null,
      "outputs": [
        {
          "output_type": "execute_result",
          "data": {
            "text/plain": [
              "array([[[  8.494204  ],\n",
              "        [  1.417194  ],\n",
              "        [ 10.17167   ],\n",
              "        ...,\n",
              "        [-19.147867  ],\n",
              "        [  2.8694592 ],\n",
              "        [  8.560003  ]],\n",
              "\n",
              "       [[  7.3750124 ],\n",
              "        [  7.1665554 ],\n",
              "        [ 12.446455  ],\n",
              "        ...,\n",
              "        [ -6.4490595 ],\n",
              "        [  3.9057302 ],\n",
              "        [ 13.92552   ]],\n",
              "\n",
              "       [[  4.3953567 ],\n",
              "        [ -0.94569147],\n",
              "        [ 11.233671  ],\n",
              "        ...,\n",
              "        [ -4.930639  ],\n",
              "        [  2.5292344 ],\n",
              "        [ 16.082832  ]],\n",
              "\n",
              "       ...,\n",
              "\n",
              "       [[-23.196985  ],\n",
              "        [-29.235525  ],\n",
              "        [-34.83545   ],\n",
              "        ...,\n",
              "        [-34.83545   ],\n",
              "        [-34.83545   ],\n",
              "        [-30.483929  ]],\n",
              "\n",
              "       [[-23.196182  ],\n",
              "        [-29.2332    ],\n",
              "        [-34.83545   ],\n",
              "        ...,\n",
              "        [-34.83545   ],\n",
              "        [-34.83545   ],\n",
              "        [-30.484558  ]],\n",
              "\n",
              "       [[-23.194138  ],\n",
              "        [-29.232635  ],\n",
              "        [-34.83545   ],\n",
              "        ...,\n",
              "        [-34.83545   ],\n",
              "        [-34.83545   ],\n",
              "        [-30.485058  ]]], dtype=float32)"
            ]
          },
          "metadata": {},
          "execution_count": 122
        }
      ]
    },
    {
      "cell_type": "code",
      "source": [],
      "metadata": {
        "id": "wbEzpOE35ItR"
      },
      "id": "wbEzpOE35ItR",
      "execution_count": null,
      "outputs": []
    }
  ],
  "metadata": {
    "kernelspec": {
      "display_name": "Python 3",
      "name": "python3"
    },
    "language_info": {
      "codemirror_mode": {
        "name": "ipython",
        "version": 3
      },
      "file_extension": ".py",
      "mimetype": "text/x-python",
      "name": "python",
      "nbconvert_exporter": "python",
      "pygments_lexer": "ipython3",
      "version": "3.7.16"
    },
    "colab": {
      "provenance": [],
      "gpuType": "L4"
    },
    "accelerator": "GPU"
  },
  "nbformat": 4,
  "nbformat_minor": 5
}