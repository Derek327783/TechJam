{
 "cells": [
  {
   "cell_type": "code",
   "execution_count": 1,
   "id": "a6a40173",
   "metadata": {},
   "outputs": [],
   "source": [
    "import pandas as pd\n",
    "metadata = pd.read_csv(\"../../folder/metadata.csv\")\n"
   ]
  },
  {
   "cell_type": "code",
   "execution_count": 4,
   "id": "144ebc8d",
   "metadata": {},
   "outputs": [
    {
     "data": {
      "text/plain": [
       "4733"
      ]
     },
     "execution_count": 4,
     "metadata": {},
     "output_type": "execute_result"
    }
   ],
   "source": [
    "len(metadata)"
   ]
  },
  {
   "cell_type": "code",
   "execution_count": 5,
   "id": "58b2244f",
   "metadata": {},
   "outputs": [],
   "source": [
    "import os\n",
    "\n",
    "# Directory path\n",
    "directory = '../../folder'\n",
    "\n",
    "# Get list of files in the directory\n",
    "files = os.listdir(directory)"
   ]
  },
  {
   "cell_type": "code",
   "execution_count": 7,
   "id": "6460e6da",
   "metadata": {},
   "outputs": [
    {
     "name": "stdout",
     "output_type": "stream",
     "text": [
      "--BHuKeveg4_frame_125.png\n",
      "--MFHJ3UTlg_frame_8.png\n",
      "--wy8QmLlM8_frame_65.png\n",
      "-av7F1JBmj4_frame_12.png\n",
      "-BkPm8JIJJQ_frame_18.png\n",
      "-CPCs7vVz6s_frame_62.png\n",
      "-DGY9HvChXk_frame_125.png\n",
      "-dRSAtRuAfs_frame_26.png\n",
      "-DWqyYW8tOg_frame_109.png\n",
      "-DWqyYW8tOg_frame_185.png\n",
      "-gGb9acieUE_frame_32.png\n",
      "-j23UnNERoA_frame_25.png\n",
      "-Jg00nlvBNs_frame_23.png\n",
      "-joCjpMi5lw_frame_36.png\n",
      "-JuzneLzN_I_frame_21.png\n",
      "-JuzneLzN_I_frame_5.png\n",
      "-jzHwhWeWCI_frame_26.png\n",
      "-k9qDxyxS3s_frame_27.png\n",
      "-KKbdErJkiY_frame_21.png\n",
      "-KPnyf8vwXI_frame_45.png\n",
      "-KY0RMhwjz4_frame_56.png\n",
      "-L8hLkg21MQ_frame_44.png\n",
      "-L_z4PTrMZw_frame_35.png\n",
      "-MsvER1dpjM_frame_14.png\n",
      "-NqaupGcCpw_frame_65.png\n",
      "-nrGWwHalCU_frame_65.png\n",
      "-nwdjQmc_N8_frame_65.png\n",
      "-N_SqtFerjg_frame_46.png\n",
      "-onQcF95pfs_frame_15.png\n",
      "-OqrcUvrbRY_frame_36.png\n",
      "-p6OH7FoWoQ_frame_21.png\n",
      "-pHfPJGatgE_frame_25.png\n",
      "-q66zKQ3-XM_frame_133.png\n",
      "-qgnGH6Rg-E_frame_11.png\n",
      "-QKj62RKBrM_frame_54.png\n",
      "-rey3m8SWQI_frame_15.png\n",
      "-Ro8-ngA8gs_frame_42.png\n",
      "-ro8eaplsV8_frame_30.png\n",
      "-ruHfeq87qo_frame_32.png\n",
      "-RVY3NEWlrc_frame_23.png\n",
      "-t651NfxPK8_frame_25.png\n",
      "-tJYN-eG1zk_frame_100.png\n",
      "-tJYN-eG1zk_frame_23.png\n",
      "-u77XdL8_B4_frame_5.png\n",
      "-uU6KzAbSTg_frame_10.png\n",
      "-UV0QGLmYys_frame_115.png\n",
      "-UV0QGLmYys_frame_24.png\n",
      "-UVGcQHNCnw_frame_1118.png\n",
      "-VlOnQP0Ei4_frame_30.png\n",
      "-xDwq8NM9G4_frame_31.png\n",
      "-yg7aZpIXRI_frame_37.png\n",
      "-YGGusu6utE_frame_35.png\n",
      "-Z4kPGcmyPI_frame_19.png\n",
      "-ZvsGmYKhcU_frame_32.png\n",
      "metadata.csv\n"
     ]
    }
   ],
   "source": [
    "for file_names in files:\n",
    "    if file_names not in list(metadata.file_name):\n",
    "        print(file_names)"
   ]
  },
  {
   "cell_type": "code",
   "execution_count": 15,
   "id": "4cddc30a",
   "metadata": {},
   "outputs": [],
   "source": [
    "# Removed files in metadata that are not in the folder\n",
    "metadata = metadata[metadata['file_name'] != \"#NAME?\"]"
   ]
  },
  {
   "cell_type": "code",
   "execution_count": 17,
   "id": "ad6fa41a",
   "metadata": {},
   "outputs": [],
   "source": [
    "# Remove files that are in folder but not in metadata\n",
    "for i in files:\n",
    "    if i not in list(metadata.file_name):\n",
    "        os.remove(\"../../folder/\"+i)"
   ]
  },
  {
   "cell_type": "code",
   "execution_count": 21,
   "id": "d1cc7d2e",
   "metadata": {},
   "outputs": [],
   "source": [
    "import os\n",
    "\n",
    "# Directory path\n",
    "directory = '../../folder'\n",
    "\n",
    "# Get list of files in the directory\n",
    "files = os.listdir(directory)\n",
    "for file_names in files:\n",
    "    if file_names not in list(metadata.file_name):\n",
    "        print(file_names)"
   ]
  },
  {
   "cell_type": "code",
   "execution_count": 22,
   "id": "41927e3a",
   "metadata": {},
   "outputs": [],
   "source": [
    "for i in list(metadata.file_name):\n",
    "    if i not in files:\n",
    "        print(i)"
   ]
  },
  {
   "cell_type": "code",
   "execution_count": 24,
   "id": "2430f037",
   "metadata": {},
   "outputs": [],
   "source": [
    "metadata.to_csv(\"../../folder/metadata.csv\")"
   ]
  }
 ],
 "metadata": {
  "kernelspec": {
   "display_name": "Python 3 (ipykernel)",
   "language": "python",
   "name": "python3"
  },
  "language_info": {
   "codemirror_mode": {
    "name": "ipython",
    "version": 3
   },
   "file_extension": ".py",
   "mimetype": "text/x-python",
   "name": "python",
   "nbconvert_exporter": "python",
   "pygments_lexer": "ipython3",
   "version": "3.7.16"
  }
 },
 "nbformat": 4,
 "nbformat_minor": 5
}
