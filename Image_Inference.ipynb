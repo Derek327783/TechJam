{
  "cells": [
    {
      "cell_type": "markdown",
      "source": [
        "\n",
        "\n"
      ],
      "metadata": {
        "id": "XdxN74DmlqRQ"
      },
      "id": "XdxN74DmlqRQ"
    },
    {
      "cell_type": "code",
      "execution_count": null,
      "id": "54d8085f",
      "metadata": {
        "id": "54d8085f"
      },
      "outputs": [],
      "source": [
        "# Restart runtime after running this cell due to peft package required to load diffusion model\n",
        "%%capture\n",
        "!pip install git+https://github.com/huggingface/diffusers.git\n",
        "!pip install accelerate\n",
        "!pip install datasets\n",
        "!pip install bitsandbytes\n",
        "!pip install -U peft"
      ]
    },
    {
      "cell_type": "code",
      "source": [
        "from diffusers import StableDiffusionPipeline\n",
        "import torch\n",
        "pipeline = StableDiffusionPipeline.from_pretrained(\"runwayml/stable-diffusion-v1-5\", torch_dtype=torch.float16).to(\"cuda\")\n",
        "pipeline.load_lora_weights(\"/Weights/pytorch_lora_weights.safetensors\", weight_name=\"pytorch_lora_weights.safetensors\")"
      ],
      "metadata": {
        "id": "BA4eVEO1lyM_"
      },
      "id": "BA4eVEO1lyM_",
      "execution_count": null,
      "outputs": []
    },
    {
      "cell_type": "code",
      "source": [
        "# Input the text prompt generated from the website here\n",
        "image = pipeline(\"\").images[0]\n",
        "image"
      ],
      "metadata": {
        "id": "PR2Km-QCl9Gl"
      },
      "id": "PR2Km-QCl9Gl",
      "execution_count": null,
      "outputs": []
    },
    {
      "cell_type": "markdown",
      "source": [],
      "metadata": {
        "id": "f9JhsY57lodE"
      },
      "id": "f9JhsY57lodE"
    }
  ],
  "metadata": {
    "kernelspec": {
      "display_name": "Python 3 (ipykernel)",
      "language": "python",
      "name": "python3"
    },
    "language_info": {
      "codemirror_mode": {
        "name": "ipython",
        "version": 3
      },
      "file_extension": ".py",
      "mimetype": "text/x-python",
      "name": "python",
      "nbconvert_exporter": "python",
      "pygments_lexer": "ipython3",
      "version": "3.7.16"
    },
    "colab": {
      "provenance": []
    }
  },
  "nbformat": 4,
  "nbformat_minor": 5
}